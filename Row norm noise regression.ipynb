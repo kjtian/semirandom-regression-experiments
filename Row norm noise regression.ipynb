{
 "cells": [
  {
   "cell_type": "code",
   "execution_count": null,
   "metadata": {},
   "outputs": [],
   "source": [
    "import numpy as np\n",
    "from scipy.stats import ortho_group\n",
    "import sklearn.linear_model as lin\n",
    "import time\n",
    "from mpc import *\n",
    "import matplotlib.pyplot as plt"
   ]
  },
  {
   "cell_type": "code",
   "execution_count": null,
   "metadata": {},
   "outputs": [],
   "source": [
    "def subspace_basis(t, d):\n",
    "    U = ortho_group.rvs(d)\n",
    "    return U[:t]\n",
    "\n",
    "# B is t x d orthogonal basis vectors, project it out of vector v\n",
    "def subspace_project(B, v):\n",
    "    for i in xrange(len(B)):\n",
    "        v = v - np.dot(v, B[i]) * B[i]\n",
    "    return v\n",
    "\n",
    "# scale covariance down\n",
    "def scaled_normal(d):\n",
    "    return np.random.normal(scale = 1.0 / np.sqrt(d), size = d)"
   ]
  },
  {
   "cell_type": "code",
   "execution_count": null,
   "metadata": {},
   "outputs": [],
   "source": [
    "# random n1 rows outside small subspace\n",
    "# basis of subspace, blown up to be quite large\n",
    "# other n2 random rows that are also large\n",
    "def bad_instance(t, d, n1, n2, size):\n",
    "    A1 = subspace_basis(t, d)\n",
    "    A2 = np.asarray([subspace_project(A1, scaled_normal(d)) for i in xrange(n1)])\n",
    "    A3 = np.asarray([scaled_normal(d) for i in xrange(n2)])\n",
    "    A = np.vstack((A2, A1 * size, A3 * size))\n",
    "    np.random.shuffle(A)\n",
    "    return A"
   ]
  },
  {
   "cell_type": "code",
   "execution_count": null,
   "metadata": {},
   "outputs": [],
   "source": [
    "def row_norm_noise(A, xtrue, stdev):\n",
    "    (n, d) = np.shape(A)\n",
    "    row_norms = np.asarray([np.linalg.norm(A[i]) for i in xrange(n)])\n",
    "    noise = np.dot(np.diag(row_norms), np.random.normal(scale = stdev, size = n))\n",
    "    return np.dot(A, xtrue) + noise"
   ]
  },
  {
   "cell_type": "code",
   "execution_count": null,
   "metadata": {},
   "outputs": [],
   "source": [
    "# MPC parameters\n",
    "degree = 10 # degree of rational approximation\n",
    "jldirs = 5 # number of JL directions used\n",
    "niters = 8 # number of iterations of solver\n",
    "alpha = 1.0 # step size of solver\n",
    "coeffs = np.asarray(ratapprox(degree))\n",
    "reg = lin.Ridge(alpha=0.0, solver='lsqr', tol=1e-5)"
   ]
  },
  {
   "cell_type": "markdown",
   "metadata": {},
   "source": [
    "# Naive and MPC solver, l2 squared error, d = 100"
   ]
  },
  {
   "cell_type": "code",
   "execution_count": null,
   "metadata": {},
   "outputs": [],
   "source": [
    "(t, d, n2, size) = (10, 100, 50, 100)\n",
    "squared_errors = np.zeros((10, 15))\n",
    "for i in xrange(10): # different values of n1\n",
    "    print i\n",
    "    n1 = 400 * (i + 1)\n",
    "    A = bad_instance(t, d, n1, n2, size)\n",
    "    for j in xrange(15):\n",
    "        xtrue = np.random.normal(size = d)\n",
    "        b = row_norm_noise(A, xtrue, 0.1)\n",
    "        x = reg.fit(A, b).coef_\n",
    "        squared_errors[i][j] = (np.linalg.norm(xtrue - x) ** 2)"
   ]
  },
  {
   "cell_type": "code",
   "execution_count": null,
   "metadata": {},
   "outputs": [],
   "source": [
    "(t, d, n2, size) = (10, 100, 50, 100)\n",
    "squared_errors_mpc = np.zeros((10, 15))\n",
    "for i in xrange(10): # different values of n1\n",
    "    print i\n",
    "    n1 = 400 * (i + 1)\n",
    "    A = bad_instance(t, d, n1, n2, size)\n",
    "    (w, total_mv) = mpc_ideal_niters(A, 500, 1.0, niters, jldirs, coeffs)\n",
    "    for j in xrange(15):\n",
    "        xtrue = np.random.normal(size = d)\n",
    "        b = row_norm_noise(A, xtrue, 0.1)\n",
    "        x = reg.fit(WhalfA(A, w), np.sqrt(w) * b).coef_\n",
    "        squared_errors_mpc[i][j] = (np.linalg.norm(xtrue - x) ** 2)"
   ]
  },
  {
   "cell_type": "code",
   "execution_count": null,
   "metadata": {
    "scrolled": true
   },
   "outputs": [],
   "source": [
    "means_squared_errors = np.asarray([np.mean(squared_errors[i]) for i in xrange(10)])\n",
    "means_squared_errors_mpc = np.asarray([np.mean(squared_errors_mpc[i]) for i in xrange(10)])\n",
    "stdevs_squared_errors = np.asarray([np.std(squared_errors[i]) for i in xrange(10)])\n",
    "stdevs_squared_errors_mpc = np.asarray([np.std(squared_errors_mpc[i]) for i in xrange(10)])"
   ]
  },
  {
   "cell_type": "code",
   "execution_count": null,
   "metadata": {},
   "outputs": [],
   "source": [
    "plt.figure()\n",
    "plt.errorbar(x=np.arange(400, 4400, 400), y=means_squared_errors, yerr=stdevs_squared_errors)\n",
    "plt.errorbar(x=np.arange(400, 4400, 400), y=means_squared_errors_mpc, yerr=stdevs_squared_errors_mpc)\n",
    "plt.xticks(np.arange(400, 4400, 400))\n",
    "plt.title(\"Mean squared errors, d = 100\")\n",
    "plt.xlabel(\"Clean data point count\")\n",
    "plt.ylabel(\"Mean squared error\")\n",
    "plt.show()"
   ]
  },
  {
   "cell_type": "markdown",
   "metadata": {},
   "source": [
    "# Naive and MPC solver, l2 squared error, d = 200"
   ]
  },
  {
   "cell_type": "code",
   "execution_count": null,
   "metadata": {},
   "outputs": [],
   "source": [
    "(t, d, n2, size) = (10, 200, 100, 200)\n",
    "squared_errors_2 = np.zeros((10, 15))\n",
    "for i in xrange(10): # different values of n1\n",
    "    print i\n",
    "    n1 = 800 * (i + 1)\n",
    "    A = bad_instance(t, d, n1, n2, size)\n",
    "    for j in xrange(15):\n",
    "        xtrue = np.random.normal(size = d)\n",
    "        b = row_norm_noise(A, xtrue, 0.1)\n",
    "        x = reg.fit(A, b).coef_\n",
    "        squared_errors_2[i][j] = (np.linalg.norm(xtrue - x) ** 2)"
   ]
  },
  {
   "cell_type": "code",
   "execution_count": null,
   "metadata": {},
   "outputs": [],
   "source": [
    "(t, d, n2, size) = (10, 200, 100, 200)\n",
    "squared_errors_mpc_2 = np.zeros((10, 15))\n",
    "for i in xrange(10): # different values of n1\n",
    "    print i\n",
    "    n1 = 800 * (i + 1)\n",
    "    A = bad_instance(t, d, n1, n2, size)\n",
    "    (w, total_mv) = mpc_ideal_niters(A, 1000, 1.0, niters, jldirs, coeffs)\n",
    "    for j in xrange(15):\n",
    "        xtrue = np.random.normal(size = d)\n",
    "        b = row_norm_noise(A, xtrue, 0.1)\n",
    "        x = reg.fit(WhalfA(A, w), np.sqrt(w) * b).coef_\n",
    "        squared_errors_mpc_2[i][j] = (np.linalg.norm(xtrue - x) ** 2)"
   ]
  },
  {
   "cell_type": "code",
   "execution_count": null,
   "metadata": {},
   "outputs": [],
   "source": [
    "means_squared_errors_2 = np.asarray([np.mean(squared_errors_2[i]) for i in xrange(10)])\n",
    "means_squared_errors_mpc_2 = np.asarray([np.mean(squared_errors_mpc_2[i]) for i in xrange(10)])\n",
    "stdevs_squared_errors_2 = np.asarray([np.std(squared_errors_2[i]) for i in xrange(10)])\n",
    "stdevs_squared_errors_mpc_2 = np.asarray([np.std(squared_errors_mpc_2[i]) for i in xrange(10)])"
   ]
  },
  {
   "cell_type": "code",
   "execution_count": null,
   "metadata": {},
   "outputs": [],
   "source": [
    "plt.figure()\n",
    "plt.errorbar(x=np.arange(800, 8800, 800), y=means_squared_errors_2, yerr=stdevs_squared_errors_2)\n",
    "plt.errorbar(x=np.arange(800, 8800, 800), y=means_squared_errors_mpc_2, yerr=stdevs_squared_errors_mpc_2)\n",
    "plt.xticks(np.arange(800, 8800, 800))\n",
    "plt.title(\"Mean squared errors, d = 200\")\n",
    "plt.xlabel(\"Clean data point count\")\n",
    "plt.ylabel(\"Mean squared error\")\n",
    "plt.show()"
   ]
  },
  {
   "cell_type": "markdown",
   "metadata": {},
   "source": [
    "# Naive and MPC solver, l2 squared error, d = 300"
   ]
  },
  {
   "cell_type": "code",
   "execution_count": null,
   "metadata": {},
   "outputs": [],
   "source": [
    "(t, d, n2, size) = (10, 300, 150, 300)\n",
    "squared_errors_3 = np.zeros((10, 15))\n",
    "for i in xrange(10): # different values of n1\n",
    "    print i\n",
    "    n1 = 1200 * (i + 1)\n",
    "    A = bad_instance(t, d, n1, n2, size)\n",
    "    for j in xrange(15):\n",
    "        xtrue = np.random.normal(size = d)\n",
    "        b = row_norm_noise(A, xtrue, 0.1)\n",
    "        x = reg.fit(A, b).coef_\n",
    "        squared_errors_3[i][j] = (np.linalg.norm(xtrue - x) ** 2)"
   ]
  },
  {
   "cell_type": "code",
   "execution_count": null,
   "metadata": {},
   "outputs": [],
   "source": [
    "(t, d, n2, size) = (10, 300, 150, 300)\n",
    "squared_errors_mpc_3 = np.zeros((10, 15))\n",
    "for i in xrange(10): # different values of n1\n",
    "    print i\n",
    "    n1 = 1200 * (i + 1)\n",
    "    A = bad_instance(t, d, n1, n2, size)\n",
    "    (w, total_mv) = mpc_ideal_niters(A, 1500, 1.0, niters, jldirs, coeffs)\n",
    "    for j in xrange(15):\n",
    "        xtrue = np.random.normal(size = d)\n",
    "        b = row_norm_noise(A, xtrue, 0.1)\n",
    "        x = reg.fit(WhalfA(A, w), np.sqrt(w) * b).coef_\n",
    "        squared_errors_mpc_3[i][j] = (np.linalg.norm(xtrue - x) ** 2)"
   ]
  },
  {
   "cell_type": "code",
   "execution_count": null,
   "metadata": {},
   "outputs": [],
   "source": [
    "means_squared_errors_3 = np.asarray([np.mean(squared_errors_3[i]) for i in xrange(10)])\n",
    "means_squared_errors_mpc_3 = np.asarray([np.mean(squared_errors_mpc_3[i]) for i in xrange(10)])\n",
    "stdevs_squared_errors_3 = np.asarray([np.std(squared_errors_3[i]) for i in xrange(10)])\n",
    "stdevs_squared_errors_mpc_3 = np.asarray([np.std(squared_errors_mpc_3[i]) for i in xrange(10)])"
   ]
  },
  {
   "cell_type": "code",
   "execution_count": null,
   "metadata": {},
   "outputs": [],
   "source": [
    "plt.figure()\n",
    "plt.errorbar(x=np.arange(1200, 13200, 1200), y=means_squared_errors_3, yerr=stdevs_squared_errors_3)\n",
    "plt.errorbar(x=np.arange(1200, 13200, 1200), y=means_squared_errors_mpc_3, yerr=stdevs_squared_errors_mpc_3)\n",
    "plt.xticks(np.arange(1200, 13200, 1200))\n",
    "plt.title(\"Mean squared errors, d = 300\")\n",
    "plt.xlabel(\"Clean data point count\")\n",
    "plt.ylabel(\"Mean squared error\")\n",
    "plt.show()"
   ]
  },
  {
   "cell_type": "code",
   "execution_count": null,
   "metadata": {},
   "outputs": [],
   "source": []
  }
 ],
 "metadata": {
  "kernelspec": {
   "display_name": "Python 2",
   "language": "python",
   "name": "python2"
  },
  "language_info": {
   "codemirror_mode": {
    "name": "ipython",
    "version": 2
   },
   "file_extension": ".py",
   "mimetype": "text/x-python",
   "name": "python",
   "nbconvert_exporter": "python",
   "pygments_lexer": "ipython2",
   "version": "2.7.14"
  }
 },
 "nbformat": 4,
 "nbformat_minor": 2
}
