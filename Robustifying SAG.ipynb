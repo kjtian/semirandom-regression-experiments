{
 "cells": [
  {
   "cell_type": "code",
   "execution_count": null,
   "metadata": {},
   "outputs": [],
   "source": [
    "import numpy as np\n",
    "from scipy.stats import ortho_group\n",
    "import sklearn.linear_model as lin\n",
    "import time\n",
    "from mpc_svrg import * # make sure to load the version which calls sag everywhere"
   ]
  },
  {
   "cell_type": "code",
   "execution_count": null,
   "metadata": {},
   "outputs": [],
   "source": [
    "# check performance\n",
    "def tau_lmax(A):\n",
    "    evals = np.linalg.eig(np.dot(A.T, A))[0]\n",
    "    return (np.sum(evals) / np.min(evals), np.max(evals))\n",
    "\n",
    "def tau(A):\n",
    "    evals = np.linalg.eig(np.dot(A.T, A))[0]\n",
    "    return np.sum(evals) / np.min(evals)\n",
    "\n",
    "def WhalfA(A, w):\n",
    "    whalfscale = np.reshape(np.sqrt(w), (np.shape(A)[0], 1))\n",
    "    return A * whalfscale"
   ]
  },
  {
   "cell_type": "code",
   "execution_count": null,
   "metadata": {},
   "outputs": [],
   "source": [
    "def subspace_basis(t, d):\n",
    "    U = ortho_group.rvs(d)\n",
    "    return U[:t]\n",
    "\n",
    "# B is t x d orthogonal basis vectors, project it out of vector v\n",
    "def subspace_project(B, v):\n",
    "    for i in xrange(len(B)):\n",
    "        v = v - np.dot(v, B[i]) * B[i]\n",
    "    return v\n",
    "\n",
    "# scale covariance down\n",
    "def scaled_normal(d):\n",
    "    return np.random.normal(scale = 1.0 / np.sqrt(d), size = d)"
   ]
  },
  {
   "cell_type": "code",
   "execution_count": null,
   "metadata": {},
   "outputs": [],
   "source": [
    "# random n1 rows outside small subspace\n",
    "# basis of subspace, blown up to be quite large\n",
    "# other n2 random rows that are also large\n",
    "def bad_instance(t, d, n1, n2, size):\n",
    "    B = subspace_basis(t, d)\n",
    "    A = np.asarray([subspace_project(B, scaled_normal(d)) for i in xrange(n1)])\n",
    "    C = np.asarray([scaled_normal(d) for i in xrange(n2)])\n",
    "    D = np.vstack((A, B * size, C * size))\n",
    "    np.random.shuffle(D)\n",
    "    return D"
   ]
  },
  {
   "cell_type": "markdown",
   "metadata": {},
   "source": [
    "# SAG fails to converge"
   ]
  },
  {
   "cell_type": "code",
   "execution_count": null,
   "metadata": {},
   "outputs": [],
   "source": [
    "(t, d, n1, n2, size) = (10, 200, 1000, 100, 200)\n",
    "A = bad_instance(t, d, n1, n2, size)\n",
    "xtrue = np.random.normal(size = d)\n",
    "b = np.dot(A, xtrue)\n",
    "print xtrue[:20]\n",
    "print tau(A)"
   ]
  },
  {
   "cell_type": "code",
   "execution_count": null,
   "metadata": {},
   "outputs": [],
   "source": [
    "reg = lin.Ridge(alpha=0.0, solver='sag', tol=1e-11)\n",
    "start = time.time()\n",
    "x = reg.fit(A, b).coef_\n",
    "print x[:20]\n",
    "end = time.time()\n",
    "print end - start"
   ]
  },
  {
   "cell_type": "markdown",
   "metadata": {},
   "source": [
    "# Preprocessing via MPC converges"
   ]
  },
  {
   "cell_type": "code",
   "execution_count": null,
   "metadata": {},
   "outputs": [],
   "source": [
    "degree = 10 # degree of rational approximation\n",
    "jldirs = 5 # number of JL directions used\n",
    "niters = 7 # number of iterations of solver\n",
    "alpha = 1.0 # step size of solver\n",
    "\n",
    "coeffs = np.asarray(ratapprox(degree))\n",
    "start = time.time()\n",
    "w = mpc_ideal_niters(A, 800, alpha, niters, jldirs, coeffs)\n",
    "x = reg.fit(WhalfA(A, w), np.sqrt(w) * b).coef_\n",
    "print x[:20]\n",
    "end = time.time()\n",
    "print end - start\n",
    "print taufull(AWA(A, w))"
   ]
  },
  {
   "cell_type": "code",
   "execution_count": null,
   "metadata": {},
   "outputs": [],
   "source": []
  }
 ],
 "metadata": {
  "kernelspec": {
   "display_name": "Python 2",
   "language": "python",
   "name": "python2"
  },
  "language_info": {
   "codemirror_mode": {
    "name": "ipython",
    "version": 2
   },
   "file_extension": ".py",
   "mimetype": "text/x-python",
   "name": "python",
   "nbconvert_exporter": "python",
   "pygments_lexer": "ipython2",
   "version": "2.7.14"
  }
 },
 "nbformat": 4,
 "nbformat_minor": 2
}
